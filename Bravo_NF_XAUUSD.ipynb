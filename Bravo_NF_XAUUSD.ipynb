{
 "cells": [
  {
   "cell_type": "code",
   "execution_count": 1,
   "id": "9bf8d1b2",
   "metadata": {},
   "outputs": [],
   "source": [
    "from datetime import datetime\n",
    "import numpy as np\n",
    "import pandas as pd\n",
    "from matplotlib import pyplot as plt\n",
    "import os\n",
    "\n",
    "import ipywidgets as widgets\n",
    "from ipywidgets import interact, interact_manual\n",
    "\n",
    "pd.set_option('display.width', 1000)  # 设置字符显示宽度\n",
    "pd.set_option('display.max_rows', None)  # 设置显示最大\n",
    "\n",
    "def pickRange(times, start, end):\n",
    "    valid = []\n",
    "    for time in times:\n",
    "        if time > start and time < end:\n",
    "            valid.append(time)\n",
    "        else:\n",
    "            pass\n",
    "    return valid"
   ]
  },
  {
   "cell_type": "code",
   "execution_count": 2,
   "id": "cb863914",
   "metadata": {},
   "outputs": [],
   "source": [
    "def processTime(timeStr, verbose=False):\n",
    "    _data = timeStr.split()\n",
    "    _validStr = _data[0] + \" \" + _data[1]\n",
    "    _time = datetime.strptime(_validStr, \"%d.%m.%Y %H:%M:%S.%f\")\n",
    "    if verbose:\n",
    "        print(f\"Time is {_time}\")\n",
    "    return _time\n",
    "\n",
    "def processDate(dateStr, verbose=False):\n",
    "    _data = dateStr.split()\n",
    "    _validStr = _data[0]\n",
    "    _time = datetime.strptime(_validStr, \"%d.%m.%Y\")\n",
    "    if verbose:\n",
    "        print(f\"Time is {_time}\")\n",
    "    return _time"
   ]
  },
  {
   "cell_type": "code",
   "execution_count": 3,
   "id": "b26a58fb",
   "metadata": {},
   "outputs": [],
   "source": [
    "def get_sec(time_str):\n",
    "    h, m, s = time_str.split(':')\n",
    "    return int(h) * 3600 + int(m) * 60 + int(s)\n",
    "# print(get_sec('21:29:56')- get_sec('21:30:00'))"
   ]
  },
  {
   "cell_type": "code",
   "execution_count": 4,
   "id": "106b015d",
   "metadata": {},
   "outputs": [],
   "source": [
    "def file_name(path):   \n",
    "    dirs = os.listdir(path)\n",
    "    #print(dirs)\n",
    "    return dirs"
   ]
  },
  {
   "cell_type": "code",
   "execution_count": 5,
   "id": "9ec5cd55",
   "metadata": {},
   "outputs": [],
   "source": [
    "# rev = file_name(\"reverse\")\n",
    "# non_rev = file_name(\"non_reverse\")"
   ]
  },
  {
   "cell_type": "code",
   "execution_count": 5,
   "id": "0f5f0e9b",
   "metadata": {
    "scrolled": true
   },
   "outputs": [
    {
     "data": {
      "text/plain": [
       "'less XAUUSD_Ticks_10.01.2014-10.01.2014.csv'"
      ]
     },
     "execution_count": 5,
     "metadata": {},
     "output_type": "execute_result"
    }
   ],
   "source": [
    "dukafiles = file_name(\"NF_pre5s&30s\")\n",
    "\n",
    "dukatimes = [processDate(name[18:28]) for name in dukafiles]\n",
    "\n",
    "ids = np.argsort(dukatimes)\n",
    "\n",
    "ordered_names = np.array(dukafiles)[ids]\n",
    "\n",
    "ordered_names[0]"
   ]
  },
  {
   "cell_type": "code",
   "execution_count": 7,
   "id": "4be137b7",
   "metadata": {
    "scrolled": true
   },
   "outputs": [
    {
     "data": {
      "application/vnd.jupyter.widget-view+json": {
       "model_id": "f8a6ad46efaf47f59de179f65d9d9850",
       "version_major": 2,
       "version_minor": 0
      },
      "text/plain": [
       "interactive(children=(Dropdown(description='filename', options=('less XAUUSD_Ticks_10.01.2014-10.01.2014.csv',…"
      ]
     },
     "metadata": {},
     "output_type": "display_data"
    }
   ],
   "source": [
    "@interact\n",
    "def plot(filename =ordered_names):\n",
    "    \n",
    "    plt.figure(figsize=(16,5))\n",
    "    data = pd.read_csv(\"NF_pre5s&30s/\" + filename)\n",
    "    x = np.arange(len(data))\n",
    "    names = [time[17:23] for time in data['Local time']]\n",
    "    plt.plot(data['average'])\n",
    "\n",
    "    gap = int(0.05*len(data))+1\n",
    "    plt.xticks(x[::gap],names[::gap],rotation=90)\n",
    "    plt.title(filename[:-4])\n",
    "\n",
    "    # Critical Point (0s)\n",
    "    for i in range(len(data[\"tempory\"])):\n",
    "        ##DEBUG\n",
    "        judge = get_sec(data.iloc[i][\"tempory\"]) - get_sec(data[\"tick\"][0])\n",
    "        #print(judge)\n",
    "        #break;\n",
    "        if judge >= 0:\n",
    "            plt.vlines(i, np.min(data[\"average\"]), np.max(data[\"average\"]), linestyles =\"dashed\", colors =\"k\", lw=1, alpha=0.5)\n",
    "            break;\n",
    "            \n",
    "                        # Critical Point (2s)\n",
    "    for c in range(len(data[\"tempory\"])):\n",
    "        ##DEBUG\n",
    "        judge = get_sec(data.iloc[c][\"tempory\"]) - get_sec(data[\"tick\"][0])\n",
    "        #print(judge)\n",
    "        #break;\n",
    "        if judge >= 2:\n",
    "            plt.vlines(c, np.min(data[\"average\"]), np.max(data[\"average\"]), linestyles =\"dashed\", colors =\"k\", lw=1, alpha=0.5)\n",
    "            break;\n",
    "            \n",
    "            \n",
    "                        # Critical Point (3s)\n",
    "    for b in range(len(data[\"tempory\"])):\n",
    "        ##DEBUG\n",
    "        judge = get_sec(data.iloc[b][\"tempory\"]) - get_sec(data[\"tick\"][0])\n",
    "        #print(judge)\n",
    "        #break;\n",
    "        if judge >= 3:\n",
    "            plt.vlines(b, np.min(data[\"average\"]), np.max(data[\"average\"]), linestyles =\"dashed\", colors =\"r\", lw=1, alpha=0.5)\n",
    "            break;\n",
    "            \n",
    "                              \n",
    "               # Critical Point (6s)\n",
    "    for a in range(len(data[\"tempory\"])):\n",
    "        ##DEBUG\n",
    "        judge = get_sec(data.iloc[a][\"tempory\"]) - get_sec(data[\"tick\"][0])\n",
    "        #print(judge)\n",
    "        #break;\n",
    "        if judge >= 6:\n",
    "            plt.vlines(a, np.min(data[\"average\"]), np.max(data[\"average\"]), linestyles =\"dashed\", colors =\"k\", lw=1, alpha=0.5)\n",
    "            break;\n",
    "            \n",
    "              \n",
    "   \n",
    "                    # Critical Point (15s)\n",
    "    for f in range(len(data[\"tempory\"])):\n",
    "        judge = get_sec(data.iloc[f][\"tempory\"]) - get_sec(data[\"tick\"][0])\n",
    "        if judge >= 15:\n",
    "            plt.vlines(f, np.min(data[\"average\"]), np.max(data[\"average\"]), linestyles =\"dashed\", colors =\"k\", lw=1, alpha=0.5)\n",
    "            break;   \n",
    "            \n",
    "            \n",
    "            \n",
    "            "
   ]
  },
  {
   "cell_type": "code",
   "execution_count": 9,
   "id": "4379e8dd",
   "metadata": {},
   "outputs": [
    {
     "data": {
      "application/vnd.jupyter.widget-view+json": {
       "model_id": "cfa8e1c0b9cc41df8f878b3872481db1",
       "version_major": 2,
       "version_minor": 0
      },
      "text/plain": [
       "interactive(children=(Dropdown(description='filename', options=('less XAUUSD_Ticks_10.01.2014-10.01.2014.csv',…"
      ]
     },
     "metadata": {},
     "output_type": "display_data"
    }
   ],
   "source": [
    "@interact\n",
    "def plot(filename=ordered_names, showData=[True]):\n",
    "    \n",
    "    #plt.figure(figsize=(16,5))\n",
    "    data = pd.read_csv(\"NF_pre5s&30s/\" + filename)\n",
    "    #x = np.arange(len(data))\n",
    "    #names = [time[17:23] for time in data['Local time']]\n",
    "    #plt.plot(data['average'])\n",
    "    \n",
    "    #gap = int(0.05*len(data))+1\n",
    "    #plt.xticks(x[::gap],names[::gap],rotation=90)\n",
    "    #plt.title(filename[:-4])\n",
    "    #plt.show()\n",
    "    #if showData:\n",
    "    #    print(data[[\"Local time\", \"average\"]])\n",
    "    return data"
   ]
  },
  {
   "cell_type": "code",
   "execution_count": null,
   "id": "14ec9763",
   "metadata": {},
   "outputs": [],
   "source": []
  },
  {
   "cell_type": "code",
   "execution_count": null,
   "id": "5970069c",
   "metadata": {},
   "outputs": [],
   "source": []
  }
 ],
 "metadata": {
  "kernelspec": {
   "display_name": "Python 3 (ipykernel)",
   "language": "python",
   "name": "python3"
  },
  "language_info": {
   "codemirror_mode": {
    "name": "ipython",
    "version": 3
   },
   "file_extension": ".py",
   "mimetype": "text/x-python",
   "name": "python",
   "nbconvert_exporter": "python",
   "pygments_lexer": "ipython3",
   "version": "3.9.12"
  }
 },
 "nbformat": 4,
 "nbformat_minor": 5
}
